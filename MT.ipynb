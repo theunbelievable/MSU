{
 "cells": [
  {
   "cell_type": "code",
   "execution_count": 1,
   "metadata": {
    "collapsed": true
   },
   "outputs": [],
   "source": [
    "import numpy as np\n",
    "import pandas as pd"
   ]
  },
  {
   "cell_type": "raw",
   "metadata": {},
   "source": [
    "По указанному адресу должен находиться файл с описанием машины Тьюринга в следующем формате:\n",
    "first_state first_sym second_sym direction second_state\n",
    "<текущее состояние> <текущий символ> <новый символ> <направление> <новое состояние>\n",
    "<текущее состояние> <текущий символ> <новый символ> <направление> <новое состояние>\n",
    "..."
   ]
  },
  {
   "cell_type": "raw",
   "metadata": {},
   "source": [
    "Дополнительно:\n",
    "<новое состояние> = halt -- для остановки\n",
    "<.. символ> = * -- выполнить для любого символа, для которого нет описания в файле (при текущем состоянии)\n",
    "_ = пробел"
   ]
  },
  {
   "cell_type": "code",
   "execution_count": 2,
   "metadata": {
    "collapsed": false
   },
   "outputs": [],
   "source": [
    "states = pd.read_csv('C://palindrome.txt', sep=' ') # проверка на палиндром\n",
    "size = states.shape[0]"
   ]
  },
  {
   "cell_type": "code",
   "execution_count": 3,
   "metadata": {
    "collapsed": false
   },
   "outputs": [],
   "source": [
    "def go_step(step):\n",
    "    string = step[0]\n",
    "    pos = int(step[1])\n",
    "    state = step[2]\n",
    "    sym = string[pos]\n",
    "    new = states[(states['first_state']==state) & (states['first_sym']==sym)]\n",
    "    if(new.size==0):\n",
    "        sym2 = '*'\n",
    "        new = states[(states['first_state']==state) & (states['first_sym']==sym2)]\n",
    "    end_sym = new['second_sym'].ravel()[0]\n",
    "    if(end_sym=='*'):\n",
    "        end_sym = sym\n",
    "    end_state = new['second_state'].ravel()[0]\n",
    "    direct = new['direction'].ravel()[0]\n",
    "    if(direct=='l'):\n",
    "        new_pos = pos - 1\n",
    "    elif(direct=='r'):\n",
    "        new_pos = pos + 1\n",
    "    else:\n",
    "        new_pos = pos\n",
    "    if(new_pos==-1):\n",
    "        new_string = '_' + end_sym + string[(pos+1):]\n",
    "        new_pos = 0\n",
    "    elif(new_pos==len(string)):\n",
    "        new_string = string[:pos] + end_sym + '_'\n",
    "    else:\n",
    "        new_string = string[:pos] + end_sym + string[(pos+1):]\n",
    "    return new_string, new_pos, end_state\n",
    "def cut(string):\n",
    "    i=0\n",
    "    while(i<len(string)):\n",
    "        if(string[i]=='_'):\n",
    "            i+=1\n",
    "        else:\n",
    "            break\n",
    "    j=len(string)-1\n",
    "    while(j>=0):\n",
    "        if(string[j]=='_'):\n",
    "            j-=1\n",
    "        else:\n",
    "            break\n",
    "    if(i==(j+1)):\n",
    "        return '_'\n",
    "    return string[i:(j+1)]\n",
    "def machine(string, one_step, step):\n",
    "    if(step[0]==' '):\n",
    "        step[0] = string\n",
    "    else:\n",
    "        string = step[0]\n",
    "    while(1):\n",
    "        step = go_step(step)\n",
    "        if(one_step==2):\n",
    "            print(step[0])\n",
    "        string = step[0]\n",
    "        pos = step[1]\n",
    "        state = step[2]\n",
    "        if((state=='halt') | (state=='halt-accept') | (state=='halt-reject')):\n",
    "            break\n",
    "        if(one_step==1):\n",
    "            print(cut(step[0]))\n",
    "            return step\n",
    "    if(one_step==1):\n",
    "        print('The end!')\n",
    "        print(cut(step[0]))\n",
    "    if(one_step==0):\n",
    "        return cut(step[0])\n",
    "    if(one_step==2):\n",
    "        print(cut(step[0]))"
   ]
  },
  {
   "cell_type": "raw",
   "metadata": {},
   "source": [
    "============================\n",
    "Для обычного запуска:"
   ]
  },
  {
   "cell_type": "code",
   "execution_count": 4,
   "metadata": {
    "collapsed": true
   },
   "outputs": [],
   "source": [
    "string = '111101111'"
   ]
  },
  {
   "cell_type": "code",
   "execution_count": 5,
   "metadata": {
    "collapsed": false
   },
   "outputs": [
    {
     "data": {
      "text/plain": [
       "':)'"
      ]
     },
     "execution_count": 5,
     "metadata": {},
     "output_type": "execute_result"
    }
   ],
   "source": [
    "machine(string, 0, [' ',0,'0'])"
   ]
  },
  {
   "cell_type": "raw",
   "metadata": {},
   "source": [
    "============================\n",
    "Для вывода сразу всех шагов и результата:"
   ]
  },
  {
   "cell_type": "code",
   "execution_count": 6,
   "metadata": {
    "collapsed": true
   },
   "outputs": [],
   "source": [
    "string = '111111011'"
   ]
  },
  {
   "cell_type": "code",
   "execution_count": 7,
   "metadata": {
    "collapsed": false
   },
   "outputs": [
    {
     "name": "stdout",
     "output_type": "stream",
     "text": [
      "_11111011\n",
      "_11111011\n",
      "_11111011\n",
      "_11111011\n",
      "_11111011\n",
      "_11111011\n",
      "_11111011\n",
      "_11111011\n",
      "_11111011_\n",
      "_11111011_\n",
      "_1111101__\n",
      "_1111101__\n",
      "_1111101__\n",
      "_1111101__\n",
      "_1111101__\n",
      "_1111101__\n",
      "_1111101__\n",
      "_1111101__\n",
      "_1111101__\n",
      "__111101__\n",
      "__111101__\n",
      "__111101__\n",
      "__111101__\n",
      "__111101__\n",
      "__111101__\n",
      "__111101__\n",
      "__111101__\n",
      "__11110___\n",
      "__11110___\n",
      "__11110___\n",
      "__11110___\n",
      "__11110___\n",
      "__11110___\n",
      "__11110___\n",
      "___1110___\n",
      "___1110___\n",
      "___1110___\n",
      "___1110___\n",
      "___1110___\n",
      "___1110___\n",
      "___1110___\n",
      "___111____\n",
      "___11_____\n",
      "___1______\n",
      "__________\n",
      "__:_______\n",
      "__:(______\n",
      ":(\n"
     ]
    }
   ],
   "source": [
    "machine(string, 2, [' ',0,'0'])"
   ]
  },
  {
   "cell_type": "raw",
   "metadata": {},
   "source": [
    "============================\n",
    "Для пошагового выполнения: запустить следующую команду 1 раз,\n",
    "потом следующую для выполнения одного шага нужное количество раз.\n",
    "Промежуточный результат будет показываться на экране.\n",
    "После возникновении надписи \"The end!\" больше запусков не требуется."
   ]
  },
  {
   "cell_type": "code",
   "execution_count": 8,
   "metadata": {
    "collapsed": true
   },
   "outputs": [],
   "source": [
    "string = '10111'\n",
    "step = [' ',0,'0']"
   ]
  },
  {
   "cell_type": "code",
   "execution_count": 9,
   "metadata": {
    "collapsed": false
   },
   "outputs": [
    {
     "name": "stdout",
     "output_type": "stream",
     "text": [
      "0111\n"
     ]
    }
   ],
   "source": [
    "step = np.array(machine(string,1,step))"
   ]
  },
  {
   "cell_type": "code",
   "execution_count": 10,
   "metadata": {
    "collapsed": false
   },
   "outputs": [
    {
     "name": "stdout",
     "output_type": "stream",
     "text": [
      "0111\n"
     ]
    }
   ],
   "source": [
    "step = np.array(machine(string,1,step))"
   ]
  },
  {
   "cell_type": "code",
   "execution_count": 11,
   "metadata": {
    "collapsed": false
   },
   "outputs": [
    {
     "name": "stdout",
     "output_type": "stream",
     "text": [
      "0111\n"
     ]
    }
   ],
   "source": [
    "step = np.array(machine(string,1,step))"
   ]
  },
  {
   "cell_type": "code",
   "execution_count": 12,
   "metadata": {
    "collapsed": false
   },
   "outputs": [
    {
     "name": "stdout",
     "output_type": "stream",
     "text": [
      "0111\n"
     ]
    }
   ],
   "source": [
    "step = np.array(machine(string,1,step))"
   ]
  },
  {
   "cell_type": "code",
   "execution_count": 13,
   "metadata": {
    "collapsed": false
   },
   "outputs": [
    {
     "name": "stdout",
     "output_type": "stream",
     "text": [
      "0111\n"
     ]
    }
   ],
   "source": [
    "step = np.array(machine(string,1,step))"
   ]
  },
  {
   "cell_type": "code",
   "execution_count": 14,
   "metadata": {
    "collapsed": false
   },
   "outputs": [
    {
     "name": "stdout",
     "output_type": "stream",
     "text": [
      "0111\n"
     ]
    }
   ],
   "source": [
    "step = np.array(machine(string,1,step))"
   ]
  },
  {
   "cell_type": "code",
   "execution_count": 15,
   "metadata": {
    "collapsed": false
   },
   "outputs": [
    {
     "name": "stdout",
     "output_type": "stream",
     "text": [
      "011\n"
     ]
    }
   ],
   "source": [
    "step = np.array(machine(string,1,step))"
   ]
  },
  {
   "cell_type": "code",
   "execution_count": 16,
   "metadata": {
    "collapsed": false
   },
   "outputs": [
    {
     "name": "stdout",
     "output_type": "stream",
     "text": [
      "011\n"
     ]
    }
   ],
   "source": [
    "step = np.array(machine(string,1,step))"
   ]
  },
  {
   "cell_type": "code",
   "execution_count": 17,
   "metadata": {
    "collapsed": false
   },
   "outputs": [
    {
     "name": "stdout",
     "output_type": "stream",
     "text": [
      "011\n"
     ]
    }
   ],
   "source": [
    "step = np.array(machine(string,1,step))"
   ]
  },
  {
   "cell_type": "code",
   "execution_count": 18,
   "metadata": {
    "collapsed": false
   },
   "outputs": [
    {
     "name": "stdout",
     "output_type": "stream",
     "text": [
      "011\n"
     ]
    }
   ],
   "source": [
    "step = np.array(machine(string,1,step))"
   ]
  },
  {
   "cell_type": "code",
   "execution_count": 19,
   "metadata": {
    "collapsed": false
   },
   "outputs": [
    {
     "name": "stdout",
     "output_type": "stream",
     "text": [
      "011\n"
     ]
    }
   ],
   "source": [
    "step = np.array(machine(string,1,step))"
   ]
  },
  {
   "cell_type": "code",
   "execution_count": 20,
   "metadata": {
    "collapsed": false
   },
   "outputs": [
    {
     "name": "stdout",
     "output_type": "stream",
     "text": [
      "11\n"
     ]
    }
   ],
   "source": [
    "step = np.array(machine(string,1,step))"
   ]
  },
  {
   "cell_type": "code",
   "execution_count": 21,
   "metadata": {
    "collapsed": false
   },
   "outputs": [
    {
     "name": "stdout",
     "output_type": "stream",
     "text": [
      "11\n"
     ]
    }
   ],
   "source": [
    "step = np.array(machine(string,1,step))"
   ]
  },
  {
   "cell_type": "code",
   "execution_count": 22,
   "metadata": {
    "collapsed": false
   },
   "outputs": [
    {
     "name": "stdout",
     "output_type": "stream",
     "text": [
      "11\n"
     ]
    }
   ],
   "source": [
    "step = np.array(machine(string,1,step))"
   ]
  },
  {
   "cell_type": "code",
   "execution_count": 23,
   "metadata": {
    "collapsed": false
   },
   "outputs": [
    {
     "name": "stdout",
     "output_type": "stream",
     "text": [
      "11\n"
     ]
    }
   ],
   "source": [
    "step = np.array(machine(string,1,step))"
   ]
  },
  {
   "cell_type": "code",
   "execution_count": 24,
   "metadata": {
    "collapsed": false
   },
   "outputs": [
    {
     "name": "stdout",
     "output_type": "stream",
     "text": [
      "11\n"
     ]
    }
   ],
   "source": [
    "step = np.array(machine(string,1,step))"
   ]
  },
  {
   "cell_type": "code",
   "execution_count": 25,
   "metadata": {
    "collapsed": false
   },
   "outputs": [
    {
     "name": "stdout",
     "output_type": "stream",
     "text": [
      "1\n"
     ]
    }
   ],
   "source": [
    "step = np.array(machine(string,1,step))"
   ]
  },
  {
   "cell_type": "code",
   "execution_count": 26,
   "metadata": {
    "collapsed": false
   },
   "outputs": [
    {
     "name": "stdout",
     "output_type": "stream",
     "text": [
      "\n"
     ]
    }
   ],
   "source": [
    "step = np.array(machine(string,1,step))"
   ]
  },
  {
   "cell_type": "code",
   "execution_count": 27,
   "metadata": {
    "collapsed": false
   },
   "outputs": [
    {
     "name": "stdout",
     "output_type": "stream",
     "text": [
      ":\n"
     ]
    }
   ],
   "source": [
    "step = np.array(machine(string,1,step))"
   ]
  },
  {
   "cell_type": "code",
   "execution_count": 28,
   "metadata": {
    "collapsed": false
   },
   "outputs": [
    {
     "name": "stdout",
     "output_type": "stream",
     "text": [
      "The end!\n",
      ":(\n"
     ]
    }
   ],
   "source": [
    "step = np.array(machine(string,1,step))"
   ]
  }
 ],
 "metadata": {
  "kernelspec": {
   "display_name": "Python [Root]",
   "language": "python",
   "name": "Python [Root]"
  },
  "language_info": {
   "codemirror_mode": {
    "name": "ipython",
    "version": 2
   },
   "file_extension": ".py",
   "mimetype": "text/x-python",
   "name": "python",
   "nbconvert_exporter": "python",
   "pygments_lexer": "ipython2",
   "version": "2.7.12"
  }
 },
 "nbformat": 4,
 "nbformat_minor": 0
}
