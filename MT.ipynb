{
 "cells": [
  {
   "cell_type": "markdown",
   "metadata": {},
   "source": [
    "## Эмулятор машины Тьюринга"
   ]
  },
  {
   "cell_type": "markdown",
   "metadata": {},
   "source": [
    "Описание машины Тьюринга должно быть в файле, формат следующий:"
   ]
  },
  {
   "cell_type": "markdown",
   "metadata": {},
   "source": [
    "<текущее состояние> <текущий символ> <новый символ> <направление> <новое состояние>"
   ]
  },
  {
   "cell_type": "markdown",
   "metadata": {},
   "source": [
    "<текущее состояние> <текущий символ> <новый символ> <направление> <новое состояние>"
   ]
  },
  {
   "cell_type": "markdown",
   "metadata": {},
   "source": [
    "..."
   ]
  },
  {
   "cell_type": "markdown",
   "metadata": {},
   "source": [
    "Обозначения:"
   ]
  },
  {
   "cell_type": "markdown",
   "metadata": {},
   "source": [
    "Начальное состояние должно называться \"0\""
   ]
  },
  {
   "cell_type": "markdown",
   "metadata": {},
   "source": [
    "Конечное состояние \"halt\" (или \"halt-accept\", \"halt-reject\")"
   ]
  },
  {
   "cell_type": "markdown",
   "metadata": {},
   "source": [
    "Символы могут быть любыми, но \"_\" - это пустой символ, \"*\" - это обозначение любого символа"
   ]
  },
  {
   "cell_type": "markdown",
   "metadata": {},
   "source": [
    "Направление: \"l\" = влево, \"r\" = вправо, \"*\" = стоять на месте"
   ]
  },
  {
   "cell_type": "code",
   "execution_count": 1,
   "metadata": {
    "collapsed": true
   },
   "outputs": [],
   "source": [
    "# for description states of Machine\n",
    "\n",
    "class desc():\n",
    "    def __init__(self, state, sym, direction):\n",
    "        self.state = state\n",
    "        self.symbol = sym\n",
    "        self.direction = direction\n",
    "        \n",
    "    def __str__(self):\n",
    "        return self.state + ' ' + self.symbol + ' ' + self.direction\n",
    "    def __repr__(self):\n",
    "        return self.state + ' ' + self.symbol + ' ' + self.direction"
   ]
  },
  {
   "cell_type": "code",
   "execution_count": 2,
   "metadata": {
    "collapsed": true
   },
   "outputs": [],
   "source": [
    "# to save and change current state of Machine\n",
    "\n",
    "class curr():\n",
    "    def __init__(self, string, position, state):\n",
    "        self.string = string\n",
    "        self.position = position\n",
    "        self.state = state\n",
    "        \n",
    "    def __str__(self):\n",
    "        i=0\n",
    "        while i<len(self.string) and self.string[i]=='_':\n",
    "            i += 1\n",
    "        j=len(self.string)-1\n",
    "        while j>=0 and self.string[j]=='_':\n",
    "            j -= 1\n",
    "        if i>=j+1:\n",
    "            return '_'\n",
    "        return self.string[i:(j+1)]\n",
    "    \n",
    "    @property\n",
    "    def symbol(self):\n",
    "        return self.string[self.position]\n",
    "    \n",
    "    def change_string(self, next_sym, new_position):\n",
    "        pos = self.position\n",
    "        if new_position==-1:\n",
    "            self.string = '_' + next_sym + self.string[(pos+1):]\n",
    "            self.position = 0\n",
    "        elif new_position==len(self.string):\n",
    "            self.string = self.string[:pos] + next_sym + '_'\n",
    "            self.position = new_position\n",
    "        else:\n",
    "            self.string = self.string[:pos] + next_sym + self.string[(pos+1):]\n",
    "            self.position = new_position\n",
    "\n",
    "    @property\n",
    "    def check_state(self):\n",
    "        if self.state=='halt' or self.state=='halt-accept' or self.state=='halt-reject':\n",
    "            return 0\n",
    "        return 1"
   ]
  },
  {
   "cell_type": "code",
   "execution_count": 3,
   "metadata": {
    "collapsed": false
   },
   "outputs": [],
   "source": [
    "# realization\n",
    "\n",
    "class Turing_Machine():\n",
    "    def __init__(self, path, string = '_'):\n",
    "        description = open(path)\n",
    "        self.states = {(line.split()[0], line.split()[1]): desc(line.split()[4], line.split()[2], line.split()[3]) for line in description}\n",
    "        description.close()\n",
    "        self.current = curr(string, 0, '0')\n",
    "        \n",
    "    def do_step(self):\n",
    "        sym = self.current.symbol\n",
    "        \n",
    "        new = self.states.get((self.current.state, sym))\n",
    "        if new==None:\n",
    "            new = self.states.get((self.current.state, '*'))\n",
    "        \n",
    "        self.current.state = new.state\n",
    "        \n",
    "        direct = new.direction\n",
    "        next_sym = new.symbol if new.symbol!='*' else sym\n",
    "        \n",
    "        new_position = self.current.position\n",
    "        if direct=='l':\n",
    "            new_position -= 1\n",
    "        elif direct=='r':\n",
    "            new_position += 1\n",
    "        \n",
    "        self.current.change_string(next_sym, new_position)\n",
    "        \n",
    "    def execution(self):\n",
    "        while self.current.check_state:\n",
    "            self.do_step()\n",
    "        print(self.current)\n",
    "    \n",
    "    def execution_print(self):\n",
    "        while self.current.check_state:\n",
    "            self.do_step()\n",
    "            print(self.current)\n",
    "        print 'The End!'\n",
    "    \n",
    "    def set_string(self, string, pos = 0):\n",
    "        self.current.string = string\n",
    "        self.current.state = '0'\n",
    "        self.current.position = pos\n",
    "    \n",
    "    def one_step(self):\n",
    "        if self.current.check_state:\n",
    "            self.do_step()\n",
    "        print(self.current)\n",
    "        if self.current.check_state==0:\n",
    "            print 'The End!'\n",
    "            return 0\n",
    "        return 1"
   ]
  },
  {
   "cell_type": "code",
   "execution_count": 4,
   "metadata": {
    "collapsed": false
   },
   "outputs": [],
   "source": [
    "path1 = 'palindrome.txt'\n",
    "path2 = 'division.txt'\n",
    "\n",
    "string1 = '1001001001'\n",
    "string2 = '1001011'\n",
    "string3 = '110011'\n",
    "\n",
    "string4 = '11111011'\n",
    "string5 = '1101'"
   ]
  },
  {
   "cell_type": "markdown",
   "metadata": {},
   "source": [
    "Создаем 2 машины:"
   ]
  },
  {
   "cell_type": "code",
   "execution_count": 5,
   "metadata": {
    "collapsed": false
   },
   "outputs": [],
   "source": [
    "check_palindrome = Turing_Machine(path1, string1)\n",
    "# Проверка числа из 0 и 1 на палиндром\n",
    "\n",
    "unary_division = Turing_Machine(path2, string4)\n",
    "# Унарное деление, 0 - разделитель между делимым и делителем, в ответе 0 разделитель между частным и остатком"
   ]
  },
  {
   "cell_type": "markdown",
   "metadata": {},
   "source": [
    "Обычный запуск:"
   ]
  },
  {
   "cell_type": "code",
   "execution_count": 6,
   "metadata": {
    "collapsed": false
   },
   "outputs": [
    {
     "name": "stdout",
     "output_type": "stream",
     "text": [
      ":)\n"
     ]
    }
   ],
   "source": [
    "check_palindrome.execution()"
   ]
  },
  {
   "cell_type": "code",
   "execution_count": 7,
   "metadata": {
    "collapsed": false
   },
   "outputs": [
    {
     "name": "stdout",
     "output_type": "stream",
     "text": [
      "1101\n"
     ]
    }
   ],
   "source": [
    "unary_division.execution()"
   ]
  },
  {
   "cell_type": "markdown",
   "metadata": {},
   "source": [
    "Меняем начальную строку:"
   ]
  },
  {
   "cell_type": "code",
   "execution_count": 8,
   "metadata": {
    "collapsed": true
   },
   "outputs": [],
   "source": [
    "check_palindrome.set_string(string2)\n",
    "unary_division.set_string(string5)"
   ]
  },
  {
   "cell_type": "markdown",
   "metadata": {},
   "source": [
    "Печатаем все промежуточные шаги:"
   ]
  },
  {
   "cell_type": "code",
   "execution_count": 9,
   "metadata": {
    "collapsed": false
   },
   "outputs": [
    {
     "name": "stdout",
     "output_type": "stream",
     "text": [
      "001011\n",
      "001011\n",
      "001011\n",
      "001011\n",
      "001011\n",
      "001011\n",
      "001011\n",
      "001011\n",
      "00101\n",
      "00101\n",
      "00101\n",
      "00101\n",
      "00101\n",
      "00101\n",
      "00101\n",
      "0101\n",
      "0101\n",
      "0101\n",
      "0101\n",
      "0101\n",
      "0101\n",
      "0101\n",
      "010\n",
      "01\n",
      "0\n",
      "_\n",
      ":\n",
      ":(\n",
      "The End!\n"
     ]
    }
   ],
   "source": [
    "check_palindrome.execution_print()"
   ]
  },
  {
   "cell_type": "code",
   "execution_count": 10,
   "metadata": {
    "collapsed": false
   },
   "outputs": [
    {
     "name": "stdout",
     "output_type": "stream",
     "text": [
      "1101\n",
      "1101\n",
      "1101\n",
      "1101\n",
      "110:\n",
      "110:\n",
      "1:0:\n",
      "1:0:\n",
      "1:0:\n",
      "1:0:\n",
      "1:0:_1\n",
      "1:0:_1\n",
      "1:01_1\n",
      "1:01_1\n",
      "1%01_1\n",
      "1%01_1\n",
      "1%01_1\n",
      "1%01_1\n",
      "1%0:_1\n",
      "1%0:_1\n",
      "1%0:_1\n",
      ":%0:_1\n",
      ":%0:_1\n",
      ":%0:_1\n",
      ":%0:_1\n",
      ":%0:_1\n",
      ":%0:_1\n",
      ":%0:_11\n",
      ":%0:_11\n",
      ":%0:_11\n",
      ":%01_11\n",
      ":%01_11\n",
      ":%01_11\n",
      "%%01_11\n",
      "%%01_11\n",
      "%01_11\n",
      "01_11\n",
      "1_11\n",
      "11\n",
      "11\n",
      "The End!\n"
     ]
    }
   ],
   "source": [
    "unary_division.execution_print()"
   ]
  },
  {
   "cell_type": "markdown",
   "metadata": {},
   "source": [
    "Для выполнения по шагам:"
   ]
  },
  {
   "cell_type": "code",
   "execution_count": 11,
   "metadata": {
    "collapsed": true
   },
   "outputs": [],
   "source": [
    "check_palindrome.set_string(string3)"
   ]
  },
  {
   "cell_type": "code",
   "execution_count": 12,
   "metadata": {
    "collapsed": false
   },
   "outputs": [
    {
     "name": "stdout",
     "output_type": "stream",
     "text": [
      "10011\n"
     ]
    },
    {
     "data": {
      "text/plain": [
       "1"
      ]
     },
     "execution_count": 12,
     "metadata": {},
     "output_type": "execute_result"
    }
   ],
   "source": [
    "check_palindrome.one_step()"
   ]
  },
  {
   "cell_type": "code",
   "execution_count": 13,
   "metadata": {
    "collapsed": false
   },
   "outputs": [
    {
     "name": "stdout",
     "output_type": "stream",
     "text": [
      "10011\n"
     ]
    },
    {
     "data": {
      "text/plain": [
       "1"
      ]
     },
     "execution_count": 13,
     "metadata": {},
     "output_type": "execute_result"
    }
   ],
   "source": [
    "check_palindrome.one_step()"
   ]
  },
  {
   "cell_type": "code",
   "execution_count": 14,
   "metadata": {
    "collapsed": false
   },
   "outputs": [
    {
     "name": "stdout",
     "output_type": "stream",
     "text": [
      "10011\n",
      "10011\n",
      "10011\n",
      "10011\n",
      "10011\n",
      "1001\n",
      "1001\n",
      "1001\n",
      "1001\n",
      "1001\n",
      "1001\n",
      "001\n",
      "001\n",
      "001\n",
      "001\n",
      "001\n",
      "00\n",
      "00\n",
      "00\n",
      "00\n",
      "0\n",
      "0\n",
      "0\n",
      "_\n",
      "_\n",
      ":\n",
      ":)\n",
      "The End!\n"
     ]
    }
   ],
   "source": [
    "while check_palindrome.one_step():\n",
    "    pass"
   ]
  }
 ],
 "metadata": {
  "anaconda-cloud": {},
  "kernelspec": {
   "display_name": "Python [conda root]",
   "language": "python",
   "name": "conda-root-py"
  },
  "language_info": {
   "codemirror_mode": {
    "name": "ipython",
    "version": 2
   },
   "file_extension": ".py",
   "mimetype": "text/x-python",
   "name": "python",
   "nbconvert_exporter": "python",
   "pygments_lexer": "ipython2",
   "version": "2.7.12"
  }
 },
 "nbformat": 4,
 "nbformat_minor": 0
}
